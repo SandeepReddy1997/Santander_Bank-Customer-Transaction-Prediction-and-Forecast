{
 "cells": [
  {
   "cell_type": "code",
   "execution_count": 1,
   "metadata": {},
   "outputs": [],
   "source": [
    "import pandas as pd\n",
    "import numpy as np\n",
    "import seaborn as sns\n",
    "import matplotlib.pyplot as plt"
   ]
  },
  {
   "cell_type": "code",
   "execution_count": 2,
   "metadata": {},
   "outputs": [
    {
     "data": {
      "text/html": [
       "<div>\n",
       "<style scoped>\n",
       "    .dataframe tbody tr th:only-of-type {\n",
       "        vertical-align: middle;\n",
       "    }\n",
       "\n",
       "    .dataframe tbody tr th {\n",
       "        vertical-align: top;\n",
       "    }\n",
       "\n",
       "    .dataframe thead th {\n",
       "        text-align: right;\n",
       "    }\n",
       "</style>\n",
       "<table border=\"1\" class=\"dataframe\">\n",
       "  <thead>\n",
       "    <tr style=\"text-align: right;\">\n",
       "      <th></th>\n",
       "      <th>ID_code</th>\n",
       "      <th>target</th>\n",
       "      <th>var_0</th>\n",
       "      <th>var_1</th>\n",
       "      <th>var_2</th>\n",
       "      <th>var_3</th>\n",
       "      <th>var_4</th>\n",
       "      <th>var_5</th>\n",
       "      <th>var_6</th>\n",
       "      <th>var_7</th>\n",
       "      <th>...</th>\n",
       "      <th>var_190</th>\n",
       "      <th>var_191</th>\n",
       "      <th>var_192</th>\n",
       "      <th>var_193</th>\n",
       "      <th>var_194</th>\n",
       "      <th>var_195</th>\n",
       "      <th>var_196</th>\n",
       "      <th>var_197</th>\n",
       "      <th>var_198</th>\n",
       "      <th>var_199</th>\n",
       "    </tr>\n",
       "  </thead>\n",
       "  <tbody>\n",
       "    <tr>\n",
       "      <td>0</td>\n",
       "      <td>train_0</td>\n",
       "      <td>0</td>\n",
       "      <td>8.9255</td>\n",
       "      <td>-6.7863</td>\n",
       "      <td>11.9081</td>\n",
       "      <td>5.0930</td>\n",
       "      <td>11.4607</td>\n",
       "      <td>-9.2834</td>\n",
       "      <td>5.1187</td>\n",
       "      <td>18.6266</td>\n",
       "      <td>...</td>\n",
       "      <td>4.4354</td>\n",
       "      <td>3.9642</td>\n",
       "      <td>3.1364</td>\n",
       "      <td>1.6910</td>\n",
       "      <td>18.5227</td>\n",
       "      <td>-2.3978</td>\n",
       "      <td>7.8784</td>\n",
       "      <td>8.5635</td>\n",
       "      <td>12.7803</td>\n",
       "      <td>-1.0914</td>\n",
       "    </tr>\n",
       "    <tr>\n",
       "      <td>1</td>\n",
       "      <td>train_1</td>\n",
       "      <td>0</td>\n",
       "      <td>11.5006</td>\n",
       "      <td>-4.1473</td>\n",
       "      <td>13.8588</td>\n",
       "      <td>5.3890</td>\n",
       "      <td>12.3622</td>\n",
       "      <td>7.0433</td>\n",
       "      <td>5.6208</td>\n",
       "      <td>16.5338</td>\n",
       "      <td>...</td>\n",
       "      <td>7.6421</td>\n",
       "      <td>7.7214</td>\n",
       "      <td>2.5837</td>\n",
       "      <td>10.9516</td>\n",
       "      <td>15.4305</td>\n",
       "      <td>2.0339</td>\n",
       "      <td>8.1267</td>\n",
       "      <td>8.7889</td>\n",
       "      <td>18.3560</td>\n",
       "      <td>1.9518</td>\n",
       "    </tr>\n",
       "    <tr>\n",
       "      <td>2</td>\n",
       "      <td>train_2</td>\n",
       "      <td>0</td>\n",
       "      <td>8.6093</td>\n",
       "      <td>-2.7457</td>\n",
       "      <td>12.0805</td>\n",
       "      <td>7.8928</td>\n",
       "      <td>10.5825</td>\n",
       "      <td>-9.0837</td>\n",
       "      <td>6.9427</td>\n",
       "      <td>14.6155</td>\n",
       "      <td>...</td>\n",
       "      <td>2.9057</td>\n",
       "      <td>9.7905</td>\n",
       "      <td>1.6704</td>\n",
       "      <td>1.6858</td>\n",
       "      <td>21.6042</td>\n",
       "      <td>3.1417</td>\n",
       "      <td>-6.5213</td>\n",
       "      <td>8.2675</td>\n",
       "      <td>14.7222</td>\n",
       "      <td>0.3965</td>\n",
       "    </tr>\n",
       "    <tr>\n",
       "      <td>3</td>\n",
       "      <td>train_3</td>\n",
       "      <td>0</td>\n",
       "      <td>11.0604</td>\n",
       "      <td>-2.1518</td>\n",
       "      <td>8.9522</td>\n",
       "      <td>7.1957</td>\n",
       "      <td>12.5846</td>\n",
       "      <td>-1.8361</td>\n",
       "      <td>5.8428</td>\n",
       "      <td>14.9250</td>\n",
       "      <td>...</td>\n",
       "      <td>4.4666</td>\n",
       "      <td>4.7433</td>\n",
       "      <td>0.7178</td>\n",
       "      <td>1.4214</td>\n",
       "      <td>23.0347</td>\n",
       "      <td>-1.2706</td>\n",
       "      <td>-2.9275</td>\n",
       "      <td>10.2922</td>\n",
       "      <td>17.9697</td>\n",
       "      <td>-8.9996</td>\n",
       "    </tr>\n",
       "    <tr>\n",
       "      <td>4</td>\n",
       "      <td>train_4</td>\n",
       "      <td>0</td>\n",
       "      <td>9.8369</td>\n",
       "      <td>-1.4834</td>\n",
       "      <td>12.8746</td>\n",
       "      <td>6.6375</td>\n",
       "      <td>12.2772</td>\n",
       "      <td>2.4486</td>\n",
       "      <td>5.9405</td>\n",
       "      <td>19.2514</td>\n",
       "      <td>...</td>\n",
       "      <td>-1.4905</td>\n",
       "      <td>9.5214</td>\n",
       "      <td>-0.1508</td>\n",
       "      <td>9.1942</td>\n",
       "      <td>13.2876</td>\n",
       "      <td>-1.5121</td>\n",
       "      <td>3.9267</td>\n",
       "      <td>9.5031</td>\n",
       "      <td>17.9974</td>\n",
       "      <td>-8.8104</td>\n",
       "    </tr>\n",
       "    <tr>\n",
       "      <td>...</td>\n",
       "      <td>...</td>\n",
       "      <td>...</td>\n",
       "      <td>...</td>\n",
       "      <td>...</td>\n",
       "      <td>...</td>\n",
       "      <td>...</td>\n",
       "      <td>...</td>\n",
       "      <td>...</td>\n",
       "      <td>...</td>\n",
       "      <td>...</td>\n",
       "      <td>...</td>\n",
       "      <td>...</td>\n",
       "      <td>...</td>\n",
       "      <td>...</td>\n",
       "      <td>...</td>\n",
       "      <td>...</td>\n",
       "      <td>...</td>\n",
       "      <td>...</td>\n",
       "      <td>...</td>\n",
       "      <td>...</td>\n",
       "      <td>...</td>\n",
       "    </tr>\n",
       "    <tr>\n",
       "      <td>2996</td>\n",
       "      <td>train_2996</td>\n",
       "      <td>0</td>\n",
       "      <td>12.7906</td>\n",
       "      <td>-6.6952</td>\n",
       "      <td>8.9214</td>\n",
       "      <td>8.7456</td>\n",
       "      <td>9.7838</td>\n",
       "      <td>-13.3113</td>\n",
       "      <td>5.9395</td>\n",
       "      <td>17.1793</td>\n",
       "      <td>...</td>\n",
       "      <td>12.4624</td>\n",
       "      <td>8.6757</td>\n",
       "      <td>1.8539</td>\n",
       "      <td>1.8595</td>\n",
       "      <td>20.0964</td>\n",
       "      <td>-1.8607</td>\n",
       "      <td>3.6957</td>\n",
       "      <td>7.1619</td>\n",
       "      <td>10.8426</td>\n",
       "      <td>-12.2040</td>\n",
       "    </tr>\n",
       "    <tr>\n",
       "      <td>2997</td>\n",
       "      <td>train_2997</td>\n",
       "      <td>0</td>\n",
       "      <td>7.8752</td>\n",
       "      <td>-6.6599</td>\n",
       "      <td>10.2925</td>\n",
       "      <td>8.3582</td>\n",
       "      <td>12.8487</td>\n",
       "      <td>-13.6883</td>\n",
       "      <td>4.5218</td>\n",
       "      <td>13.4695</td>\n",
       "      <td>...</td>\n",
       "      <td>2.8302</td>\n",
       "      <td>6.0452</td>\n",
       "      <td>2.3434</td>\n",
       "      <td>0.8373</td>\n",
       "      <td>18.2609</td>\n",
       "      <td>0.3159</td>\n",
       "      <td>-1.5047</td>\n",
       "      <td>8.3811</td>\n",
       "      <td>21.1464</td>\n",
       "      <td>0.5044</td>\n",
       "    </tr>\n",
       "    <tr>\n",
       "      <td>2998</td>\n",
       "      <td>train_2998</td>\n",
       "      <td>0</td>\n",
       "      <td>12.4543</td>\n",
       "      <td>0.5636</td>\n",
       "      <td>7.6201</td>\n",
       "      <td>6.5594</td>\n",
       "      <td>11.9902</td>\n",
       "      <td>-1.0181</td>\n",
       "      <td>5.9425</td>\n",
       "      <td>18.9612</td>\n",
       "      <td>...</td>\n",
       "      <td>8.5948</td>\n",
       "      <td>9.8214</td>\n",
       "      <td>3.3406</td>\n",
       "      <td>4.6509</td>\n",
       "      <td>14.6915</td>\n",
       "      <td>-2.3242</td>\n",
       "      <td>-4.4507</td>\n",
       "      <td>9.7024</td>\n",
       "      <td>19.4117</td>\n",
       "      <td>14.7711</td>\n",
       "    </tr>\n",
       "    <tr>\n",
       "      <td>2999</td>\n",
       "      <td>train_2999</td>\n",
       "      <td>0</td>\n",
       "      <td>8.3127</td>\n",
       "      <td>6.3142</td>\n",
       "      <td>8.4590</td>\n",
       "      <td>9.7534</td>\n",
       "      <td>11.9035</td>\n",
       "      <td>5.0464</td>\n",
       "      <td>5.6587</td>\n",
       "      <td>21.5793</td>\n",
       "      <td>...</td>\n",
       "      <td>-3.1613</td>\n",
       "      <td>8.2801</td>\n",
       "      <td>0.4287</td>\n",
       "      <td>2.7820</td>\n",
       "      <td>18.7185</td>\n",
       "      <td>-1.3488</td>\n",
       "      <td>8.9783</td>\n",
       "      <td>8.3284</td>\n",
       "      <td>15.5289</td>\n",
       "      <td>-7.8532</td>\n",
       "    </tr>\n",
       "    <tr>\n",
       "      <td>3000</td>\n",
       "      <td>train_3000</td>\n",
       "      <td>0</td>\n",
       "      <td>7.1599</td>\n",
       "      <td>-1.9257</td>\n",
       "      <td>14.4617</td>\n",
       "      <td>5.4118</td>\n",
       "      <td>8.3290</td>\n",
       "      <td>6.1129</td>\n",
       "      <td>4.2082</td>\n",
       "      <td>16.8230</td>\n",
       "      <td>...</td>\n",
       "      <td>-1.7284</td>\n",
       "      <td>13.9315</td>\n",
       "      <td>2.2757</td>\n",
       "      <td>5.7576</td>\n",
       "      <td>18.2569</td>\n",
       "      <td>3.0608</td>\n",
       "      <td>3.3418</td>\n",
       "      <td>8.6604</td>\n",
       "      <td>18.6167</td>\n",
       "      <td>-20.7216</td>\n",
       "    </tr>\n",
       "  </tbody>\n",
       "</table>\n",
       "<p>3001 rows × 202 columns</p>\n",
       "</div>"
      ],
      "text/plain": [
       "         ID_code  target    var_0   var_1    var_2   var_3    var_4    var_5  \\\n",
       "0        train_0       0   8.9255 -6.7863  11.9081  5.0930  11.4607  -9.2834   \n",
       "1        train_1       0  11.5006 -4.1473  13.8588  5.3890  12.3622   7.0433   \n",
       "2        train_2       0   8.6093 -2.7457  12.0805  7.8928  10.5825  -9.0837   \n",
       "3        train_3       0  11.0604 -2.1518   8.9522  7.1957  12.5846  -1.8361   \n",
       "4        train_4       0   9.8369 -1.4834  12.8746  6.6375  12.2772   2.4486   \n",
       "...          ...     ...      ...     ...      ...     ...      ...      ...   \n",
       "2996  train_2996       0  12.7906 -6.6952   8.9214  8.7456   9.7838 -13.3113   \n",
       "2997  train_2997       0   7.8752 -6.6599  10.2925  8.3582  12.8487 -13.6883   \n",
       "2998  train_2998       0  12.4543  0.5636   7.6201  6.5594  11.9902  -1.0181   \n",
       "2999  train_2999       0   8.3127  6.3142   8.4590  9.7534  11.9035   5.0464   \n",
       "3000  train_3000       0   7.1599 -1.9257  14.4617  5.4118   8.3290   6.1129   \n",
       "\n",
       "       var_6    var_7  ...  var_190  var_191  var_192  var_193  var_194  \\\n",
       "0     5.1187  18.6266  ...   4.4354   3.9642   3.1364   1.6910  18.5227   \n",
       "1     5.6208  16.5338  ...   7.6421   7.7214   2.5837  10.9516  15.4305   \n",
       "2     6.9427  14.6155  ...   2.9057   9.7905   1.6704   1.6858  21.6042   \n",
       "3     5.8428  14.9250  ...   4.4666   4.7433   0.7178   1.4214  23.0347   \n",
       "4     5.9405  19.2514  ...  -1.4905   9.5214  -0.1508   9.1942  13.2876   \n",
       "...      ...      ...  ...      ...      ...      ...      ...      ...   \n",
       "2996  5.9395  17.1793  ...  12.4624   8.6757   1.8539   1.8595  20.0964   \n",
       "2997  4.5218  13.4695  ...   2.8302   6.0452   2.3434   0.8373  18.2609   \n",
       "2998  5.9425  18.9612  ...   8.5948   9.8214   3.3406   4.6509  14.6915   \n",
       "2999  5.6587  21.5793  ...  -3.1613   8.2801   0.4287   2.7820  18.7185   \n",
       "3000  4.2082  16.8230  ...  -1.7284  13.9315   2.2757   5.7576  18.2569   \n",
       "\n",
       "      var_195  var_196  var_197  var_198  var_199  \n",
       "0     -2.3978   7.8784   8.5635  12.7803  -1.0914  \n",
       "1      2.0339   8.1267   8.7889  18.3560   1.9518  \n",
       "2      3.1417  -6.5213   8.2675  14.7222   0.3965  \n",
       "3     -1.2706  -2.9275  10.2922  17.9697  -8.9996  \n",
       "4     -1.5121   3.9267   9.5031  17.9974  -8.8104  \n",
       "...       ...      ...      ...      ...      ...  \n",
       "2996  -1.8607   3.6957   7.1619  10.8426 -12.2040  \n",
       "2997   0.3159  -1.5047   8.3811  21.1464   0.5044  \n",
       "2998  -2.3242  -4.4507   9.7024  19.4117  14.7711  \n",
       "2999  -1.3488   8.9783   8.3284  15.5289  -7.8532  \n",
       "3000   3.0608   3.3418   8.6604  18.6167 -20.7216  \n",
       "\n",
       "[3001 rows x 202 columns]"
      ]
     },
     "execution_count": 2,
     "metadata": {},
     "output_type": "execute_result"
    }
   ],
   "source": [
    "raw_data = pd.read_excel('train.xlsx')\n",
    "raw_data"
   ]
  },
  {
   "cell_type": "markdown",
   "metadata": {},
   "source": [
    "# Missing Value Analysis"
   ]
  },
  {
   "cell_type": "code",
   "execution_count": 3,
   "metadata": {},
   "outputs": [
    {
     "data": {
      "text/plain": [
       "0"
      ]
     },
     "execution_count": 3,
     "metadata": {},
     "output_type": "execute_result"
    }
   ],
   "source": [
    "raw_data.isna().sum().sum()"
   ]
  },
  {
   "cell_type": "markdown",
   "metadata": {},
   "source": [
    "There are no Missing values."
   ]
  },
  {
   "cell_type": "code",
   "execution_count": 4,
   "metadata": {},
   "outputs": [],
   "source": [
    "# Convert Columns to their respective type\n",
    "raw_data['ID_code'] = raw_data['ID_code'].astype('object')\n",
    "raw_data['target'] = raw_data['target'].astype('category')\n",
    "raw_data.iloc[:, 2:] = raw_data.iloc[:, 2:].astype('float')"
   ]
  },
  {
   "cell_type": "code",
   "execution_count": 5,
   "metadata": {},
   "outputs": [
    {
     "data": {
      "image/png": "[encoded data removed]",
      "text/plain": [
       "<Figure size 432x288 with 1 Axes>"
      ]
     },
     "metadata": {
      "needs_background": "light"
     },
     "output_type": "display_data"
    }
   ],
   "source": [
    "# Plot Bar graph on Target variable\n",
    "fig, ax = plt.subplots()\n",
    "bar_plot = plt.bar(raw_data['target'].value_counts().index, raw_data['target'].value_counts().values, tick_label=raw_data['target'].value_counts().index)\n",
    "def autolabel(rects):\n",
    "    for idx,rect in enumerate(bar_plot):\n",
    "        height = rect.get_height()\n",
    "        ax.text(rect.get_x() + rect.get_width()/2., height, height, ha='center', va='bottom', rotation=0)\n",
    "autolabel(bar_plot)\n",
    "plt.show()"
   ]
  },
  {
   "cell_type": "markdown",
   "metadata": {},
   "source": [
    "Since the data is unbalanced. We have to resample the data."
   ]
  },
  {
   "cell_type": "markdown",
   "metadata": {},
   "source": [
    "# Resampling"
   ]
  },
  {
   "cell_type": "code",
   "execution_count": 6,
   "metadata": {},
   "outputs": [],
   "source": [
    "from sklearn.utils import resample\n",
    "\n",
    "data_majority = raw_data[raw_data['target'] == 0]\n",
    "data_minority = raw_data[raw_data['target'] == 1]"
   ]
  },
  {
   "cell_type": "code",
   "execution_count": 7,
   "metadata": {},
   "outputs": [],
   "source": [
    "# We Upsample the data\n",
    "data_majority_downsampled = resample(data_majority,\n",
    "                                  replace = True,\n",
    "                                  n_samples = data_minority.shape[0],\n",
    "                                  random_state = 45)"
   ]
  },
  {
   "cell_type": "code",
   "execution_count": 8,
   "metadata": {},
   "outputs": [
    {
     "data": {
      "text/plain": [
       "(606, 202)"
      ]
     },
     "execution_count": 8,
     "metadata": {},
     "output_type": "execute_result"
    }
   ],
   "source": [
    "raw_data = pd.concat([data_majority_downsampled, data_minority], axis=0)\n",
    "raw_data.shape"
   ]
  },
  {
   "cell_type": "markdown",
   "metadata": {},
   "source": [
    "# Feature Selection"
   ]
  },
  {
   "cell_type": "markdown",
   "metadata": {},
   "source": [
    "#### Using Correlation Matrix"
   ]
  },
  {
   "cell_type": "code",
   "execution_count": 9,
   "metadata": {},
   "outputs": [],
   "source": [
    "correlation_matrix = pd.DataFrame(raw_data.corr())"
   ]
  },
  {
   "cell_type": "code",
   "execution_count": 10,
   "metadata": {},
   "outputs": [],
   "source": [
    "# plt.figure(figsize = (20,15))\n",
    "# sns.heatmap(correlation_matrix, cmap='coolwarm', linewidths=0.5, linecolor='w', annot=True)\n",
    "# plt.show()"
   ]
  },
  {
   "cell_type": "code",
   "execution_count": 11,
   "metadata": {},
   "outputs": [
    {
     "name": "stdout",
     "output_type": "stream",
     "text": [
      "NONE of the columns have Correlation greater than 0.75\n"
     ]
    }
   ],
   "source": [
    "# Display pair of columns having correlation greater than 0.70\n",
    "\n",
    "row = list(correlation_matrix.index)\n",
    "col = list(correlation_matrix.columns)\n",
    "corr_mark = 0.75\n",
    "atleastOne = 0\n",
    "l = []\n",
    "for r in row:\n",
    "    for c in col:\n",
    "        if r != c:\n",
    "            if [c, r] not in l:\n",
    "                if correlation_matrix[r][c] > corr_mark:\n",
    "                    atleastOne = 1\n",
    "                    l.append([r, c])\n",
    "                    print(r, ' - ', c, '  --> ', correlation_matrix[r][c])\n",
    "                else:\n",
    "                    continue\n",
    "            else:\n",
    "                continue\n",
    "        else:\n",
    "            continue\n",
    "if atleastOne == 0:\n",
    "    print('NONE of the columns have Correlation greater than', corr_mark)"
   ]
  },
  {
   "cell_type": "markdown",
   "metadata": {},
   "source": [
    "# Outlier Analysis"
   ]
  },
  {
   "cell_type": "code",
   "execution_count": 12,
   "metadata": {},
   "outputs": [],
   "source": [
    "columns = list(raw_data.columns)\n",
    "num_cols = raw_data._get_numeric_data().columns"
   ]
  },
  {
   "cell_type": "code",
   "execution_count": 13,
   "metadata": {},
   "outputs": [
    {
     "data": {
      "text/plain": [
       "<matplotlib.axes._subplots.AxesSubplot at 0x23f250089b0>"
      ]
     },
     "execution_count": 13,
     "metadata": {},
     "output_type": "execute_result"
    },
    {
     "data": {
      "image/png": "[encoded data removed]",
      "text/plain": [
       "<Figure size 1440x360 with 1 Axes>"
      ]
     },
     "metadata": {
      "needs_background": "light"
     },
     "output_type": "display_data"
    }
   ],
   "source": [
    "raw_data[num_cols[0:30]].boxplot(figsize = (20, 5))"
   ]
  },
  {
   "cell_type": "markdown",
   "metadata": {},
   "source": [
    "#### Removing outliers using box plot method"
   ]
  },
  {
   "cell_type": "code",
   "execution_count": 14,
   "metadata": {},
   "outputs": [],
   "source": [
    "def removeOutliers(df, column):\n",
    "    Q1 = df[column].quantile(0.25)\n",
    "    Q3 = df[column].quantile(0.75)\n",
    "    IQR = Q3 - Q1 # Inter Quartile Range\n",
    "    \n",
    "    filter = (df[column] >= (Q1 - 1.5 * IQR)) & ((df[column] <= (Q3 + 1.5 * IQR)))\n",
    "    noOfOutliers = df.shape[0] - df.loc[filter].shape[0]\n",
    "    return noOfOutliers, df.loc[filter]"
   ]
  },
  {
   "cell_type": "code",
   "execution_count": 15,
   "metadata": {
    "scrolled": true
   },
   "outputs": [
    {
     "name": "stdout",
     "output_type": "stream",
     "text": [
      "Column:  VAR_0  --> Number of Outliers: 0\n",
      "-----------------------------------------------------------------\n",
      "Column:  VAR_1  --> Number of Outliers: 0\n",
      "-----------------------------------------------------------------\n",
      "Column:  VAR_2  --> Number of Outliers: 0\n",
      "-----------------------------------------------------------------\n",
      "Column:  VAR_3  --> Number of Outliers: 0\n",
      "-----------------------------------------------------------------\n",
      "Column:  VAR_4  --> Number of Outliers: 0\n",
      "-----------------------------------------------------------------\n",
      "Column:  VAR_5  --> Number of Outliers: 0\n",
      "-----------------------------------------------------------------\n",
      "Column:  VAR_6  --> Number of Outliers: 0\n",
      "-----------------------------------------------------------------\n",
      "Column:  VAR_7  --> Number of Outliers: 0\n",
      "-----------------------------------------------------------------\n",
      "Column:  VAR_8  --> Number of Outliers: 0\n",
      "-----------------------------------------------------------------\n",
      "Column:  VAR_9  --> Number of Outliers: 0\n",
      "-----------------------------------------------------------------\n",
      "Column:  VAR_10  --> Number of Outliers: 0\n",
      "-----------------------------------------------------------------\n",
      "Column:  VAR_11  --> Number of Outliers: 0\n",
      "-----------------------------------------------------------------\n",
      "Column:  VAR_12  --> Number of Outliers: 0\n",
      "-----------------------------------------------------------------\n",
      "Column:  VAR_13  --> Number of Outliers: 0\n",
      "-----------------------------------------------------------------\n",
      "Column:  VAR_14  --> Number of Outliers: 0\n",
      "-----------------------------------------------------------------\n",
      "Column:  VAR_15  --> Number of Outliers: 0\n",
      "-----------------------------------------------------------------\n",
      "Column:  VAR_16  --> Number of Outliers: 0\n",
      "-----------------------------------------------------------------\n",
      "Column:  VAR_17  --> Number of Outliers: 1\n",
      "-----------------------------------------------------------------\n",
      "Column:  VAR_18  --> Number of Outliers: 0\n",
      "-----------------------------------------------------------------\n",
      "Column:  VAR_19  --> Number of Outliers: 0\n",
      "-----------------------------------------------------------------\n",
      "Column:  VAR_20  --> Number of Outliers: 0\n",
      "-----------------------------------------------------------------\n",
      "Column:  VAR_21  --> Number of Outliers: 1\n",
      "-----------------------------------------------------------------\n",
      "Column:  VAR_22  --> Number of Outliers: 0\n",
      "-----------------------------------------------------------------\n",
      "Column:  VAR_23  --> Number of Outliers: 0\n",
      "-----------------------------------------------------------------\n",
      "Column:  VAR_24  --> Number of Outliers: 0\n",
      "-----------------------------------------------------------------\n",
      "Column:  VAR_25  --> Number of Outliers: 0\n",
      "-----------------------------------------------------------------\n",
      "Column:  VAR_26  --> Number of Outliers: 0\n",
      "-----------------------------------------------------------------\n",
      "Column:  VAR_27  --> Number of Outliers: 0\n",
      "-----------------------------------------------------------------\n",
      "Column:  VAR_28  --> Number of Outliers: 0\n",
      "-----------------------------------------------------------------\n",
      "Column:  VAR_29  --> Number of Outliers: 0\n",
      "-----------------------------------------------------------------\n",
      "Column:  VAR_30  --> Number of Outliers: 0\n",
      "-----------------------------------------------------------------\n",
      "Column:  VAR_31  --> Number of Outliers: 1\n",
      "-----------------------------------------------------------------\n",
      "Column:  VAR_32  --> Number of Outliers: 0\n",
      "-----------------------------------------------------------------\n",
      "Column:  VAR_33  --> Number of Outliers: 0\n",
      "-----------------------------------------------------------------\n",
      "Column:  VAR_34  --> Number of Outliers: 0\n",
      "-----------------------------------------------------------------\n",
      "Column:  VAR_35  --> Number of Outliers: 2\n",
      "-----------------------------------------------------------------\n",
      "Column:  VAR_36  --> Number of Outliers: 1\n",
      "-----------------------------------------------------------------\n",
      "Column:  VAR_37  --> Number of Outliers: 0\n",
      "-----------------------------------------------------------------\n",
      "Column:  VAR_38  --> Number of Outliers: 2\n",
      "-----------------------------------------------------------------\n",
      "Column:  VAR_39  --> Number of Outliers: 2\n",
      "-----------------------------------------------------------------\n",
      "Column:  VAR_40  --> Number of Outliers: 0\n",
      "-----------------------------------------------------------------\n",
      "Column:  VAR_41  --> Number of Outliers: 0\n",
      "-----------------------------------------------------------------\n",
      "Column:  VAR_42  --> Number of Outliers: 0\n",
      "-----------------------------------------------------------------\n",
      "Column:  VAR_43  --> Number of Outliers: 1\n",
      "-----------------------------------------------------------------\n",
      "Column:  VAR_44  --> Number of Outliers: 2\n",
      "-----------------------------------------------------------------\n",
      "Column:  VAR_45  --> Number of Outliers: 0\n",
      "-----------------------------------------------------------------\n",
      "Column:  VAR_46  --> Number of Outliers: 1\n",
      "-----------------------------------------------------------------\n",
      "Column:  VAR_47  --> Number of Outliers: 0\n",
      "-----------------------------------------------------------------\n",
      "Column:  VAR_48  --> Number of Outliers: 0\n",
      "-----------------------------------------------------------------\n",
      "Column:  VAR_49  --> Number of Outliers: 0\n",
      "-----------------------------------------------------------------\n",
      "Column:  VAR_50  --> Number of Outliers: 0\n",
      "-----------------------------------------------------------------\n",
      "Column:  VAR_51  --> Number of Outliers: 0\n",
      "-----------------------------------------------------------------\n",
      "Column:  VAR_52  --> Number of Outliers: 3\n",
      "-----------------------------------------------------------------\n",
      "Column:  VAR_53  --> Number of Outliers: 0\n",
      "-----------------------------------------------------------------\n",
      "Column:  VAR_54  --> Number of Outliers: 0\n",
      "-----------------------------------------------------------------\n",
      "Column:  VAR_55  --> Number of Outliers: 0\n",
      "-----------------------------------------------------------------\n",
      "Column:  VAR_56  --> Number of Outliers: 0\n",
      "-----------------------------------------------------------------\n",
      "Column:  VAR_57  --> Number of Outliers: 0\n",
      "-----------------------------------------------------------------\n",
      "Column:  VAR_58  --> Number of Outliers: 2\n",
      "-----------------------------------------------------------------\n",
      "Column:  VAR_59  --> Number of Outliers: 0\n",
      "-----------------------------------------------------------------\n",
      "Column:  VAR_60  --> Number of Outliers: 0\n",
      "-----------------------------------------------------------------\n",
      "Column:  VAR_61  --> Number of Outliers: 0\n",
      "-----------------------------------------------------------------\n",
      "Column:  VAR_62  --> Number of Outliers: 2\n",
      "-----------------------------------------------------------------\n",
      "Column:  VAR_63  --> Number of Outliers: 1\n",
      "-----------------------------------------------------------------\n",
      "Column:  VAR_64  --> Number of Outliers: 0\n",
      "-----------------------------------------------------------------\n",
      "Column:  VAR_65  --> Number of Outliers: 0\n",
      "-----------------------------------------------------------------\n",
      "Column:  VAR_66  --> Number of Outliers: 2\n",
      "-----------------------------------------------------------------\n",
      "Column:  VAR_67  --> Number of Outliers: 3\n",
      "-----------------------------------------------------------------\n",
      "Column:  VAR_68  --> Number of Outliers: 1\n",
      "-----------------------------------------------------------------\n",
      "Column:  VAR_69  --> Number of Outliers: 0\n",
      "-----------------------------------------------------------------\n",
      "Column:  VAR_70  --> Number of Outliers: 0\n",
      "-----------------------------------------------------------------\n",
      "Column:  VAR_71  --> Number of Outliers: 0\n",
      "-----------------------------------------------------------------\n",
      "Column:  VAR_72  --> Number of Outliers: 0\n",
      "-----------------------------------------------------------------\n",
      "Column:  VAR_73  --> Number of Outliers: 0\n",
      "-----------------------------------------------------------------\n",
      "Column:  VAR_74  --> Number of Outliers: 0\n",
      "-----------------------------------------------------------------\n",
      "Column:  VAR_75  --> Number of Outliers: 0\n",
      "-----------------------------------------------------------------\n",
      "Column:  VAR_76  --> Number of Outliers: 1\n",
      "-----------------------------------------------------------------\n",
      "Column:  VAR_77  --> Number of Outliers: 0\n",
      "-----------------------------------------------------------------\n",
      "Column:  VAR_78  --> Number of Outliers: 0\n",
      "-----------------------------------------------------------------\n",
      "Column:  VAR_79  --> Number of Outliers: 0\n",
      "-----------------------------------------------------------------\n"
     ]
    },
    {
     "name": "stdout",
     "output_type": "stream",
     "text": [
      "Column:  VAR_80  --> Number of Outliers: 0\n",
      "-----------------------------------------------------------------\n",
      "Column:  VAR_81  --> Number of Outliers: 0\n",
      "-----------------------------------------------------------------\n",
      "Column:  VAR_82  --> Number of Outliers: 0\n",
      "-----------------------------------------------------------------\n",
      "Column:  VAR_83  --> Number of Outliers: 0\n",
      "-----------------------------------------------------------------\n",
      "Column:  VAR_84  --> Number of Outliers: 0\n",
      "-----------------------------------------------------------------\n",
      "Column:  VAR_85  --> Number of Outliers: 0\n",
      "-----------------------------------------------------------------\n",
      "Column:  VAR_86  --> Number of Outliers: 0\n",
      "-----------------------------------------------------------------\n",
      "Column:  VAR_87  --> Number of Outliers: 1\n",
      "-----------------------------------------------------------------\n",
      "Column:  VAR_88  --> Number of Outliers: 0\n",
      "-----------------------------------------------------------------\n",
      "Column:  VAR_89  --> Number of Outliers: 1\n",
      "-----------------------------------------------------------------\n",
      "Column:  VAR_90  --> Number of Outliers: 0\n",
      "-----------------------------------------------------------------\n",
      "Column:  VAR_91  --> Number of Outliers: 0\n",
      "-----------------------------------------------------------------\n",
      "Column:  VAR_92  --> Number of Outliers: 0\n",
      "-----------------------------------------------------------------\n",
      "Column:  VAR_93  --> Number of Outliers: 0\n",
      "-----------------------------------------------------------------\n",
      "Column:  VAR_94  --> Number of Outliers: 0\n",
      "-----------------------------------------------------------------\n",
      "Column:  VAR_95  --> Number of Outliers: 0\n",
      "-----------------------------------------------------------------\n",
      "Column:  VAR_96  --> Number of Outliers: 0\n",
      "-----------------------------------------------------------------\n",
      "Column:  VAR_97  --> Number of Outliers: 0\n",
      "-----------------------------------------------------------------\n",
      "Column:  VAR_98  --> Number of Outliers: 1\n",
      "-----------------------------------------------------------------\n",
      "Column:  VAR_99  --> Number of Outliers: 0\n",
      "-----------------------------------------------------------------\n",
      "Column:  VAR_100  --> Number of Outliers: 0\n",
      "-----------------------------------------------------------------\n",
      "Column:  VAR_101  --> Number of Outliers: 0\n",
      "-----------------------------------------------------------------\n",
      "Column:  VAR_102  --> Number of Outliers: 0\n",
      "-----------------------------------------------------------------\n",
      "Column:  VAR_103  --> Number of Outliers: 0\n",
      "-----------------------------------------------------------------\n",
      "Column:  VAR_104  --> Number of Outliers: 5\n",
      "-----------------------------------------------------------------\n",
      "Column:  VAR_105  --> Number of Outliers: 3\n",
      "-----------------------------------------------------------------\n",
      "Column:  VAR_106  --> Number of Outliers: 3\n",
      "-----------------------------------------------------------------\n",
      "Column:  VAR_107  --> Number of Outliers: 0\n",
      "-----------------------------------------------------------------\n",
      "Column:  VAR_108  --> Number of Outliers: 0\n",
      "-----------------------------------------------------------------\n",
      "Column:  VAR_109  --> Number of Outliers: 0\n",
      "-----------------------------------------------------------------\n",
      "Column:  VAR_110  --> Number of Outliers: 0\n",
      "-----------------------------------------------------------------\n",
      "Column:  VAR_111  --> Number of Outliers: 0\n",
      "-----------------------------------------------------------------\n",
      "Column:  VAR_112  --> Number of Outliers: 0\n",
      "-----------------------------------------------------------------\n",
      "Column:  VAR_113  --> Number of Outliers: 0\n",
      "-----------------------------------------------------------------\n",
      "Column:  VAR_114  --> Number of Outliers: 0\n",
      "-----------------------------------------------------------------\n",
      "Column:  VAR_115  --> Number of Outliers: 0\n",
      "-----------------------------------------------------------------\n",
      "Column:  VAR_116  --> Number of Outliers: 0\n",
      "-----------------------------------------------------------------\n",
      "Column:  VAR_117  --> Number of Outliers: 0\n",
      "-----------------------------------------------------------------\n",
      "Column:  VAR_118  --> Number of Outliers: 0\n",
      "-----------------------------------------------------------------\n",
      "Column:  VAR_119  --> Number of Outliers: 0\n",
      "-----------------------------------------------------------------\n",
      "Column:  VAR_120  --> Number of Outliers: 1\n",
      "-----------------------------------------------------------------\n",
      "Column:  VAR_121  --> Number of Outliers: 0\n",
      "-----------------------------------------------------------------\n",
      "Column:  VAR_122  --> Number of Outliers: 0\n",
      "-----------------------------------------------------------------\n",
      "Column:  VAR_123  --> Number of Outliers: 0\n",
      "-----------------------------------------------------------------\n",
      "Column:  VAR_124  --> Number of Outliers: 3\n",
      "-----------------------------------------------------------------\n",
      "Column:  VAR_125  --> Number of Outliers: 0\n",
      "-----------------------------------------------------------------\n",
      "Column:  VAR_126  --> Number of Outliers: 0\n",
      "-----------------------------------------------------------------\n",
      "Column:  VAR_127  --> Number of Outliers: 0\n",
      "-----------------------------------------------------------------\n",
      "Column:  VAR_128  --> Number of Outliers: 0\n",
      "-----------------------------------------------------------------\n",
      "Column:  VAR_129  --> Number of Outliers: 0\n",
      "-----------------------------------------------------------------\n",
      "Column:  VAR_130  --> Number of Outliers: 0\n",
      "-----------------------------------------------------------------\n",
      "Column:  VAR_131  --> Number of Outliers: 0\n",
      "-----------------------------------------------------------------\n",
      "Column:  VAR_132  --> Number of Outliers: 0\n",
      "-----------------------------------------------------------------\n",
      "Column:  VAR_133  --> Number of Outliers: 0\n",
      "-----------------------------------------------------------------\n",
      "Column:  VAR_134  --> Number of Outliers: 0\n",
      "-----------------------------------------------------------------\n",
      "Column:  VAR_135  --> Number of Outliers: 0\n",
      "-----------------------------------------------------------------\n",
      "Column:  VAR_136  --> Number of Outliers: 0\n",
      "-----------------------------------------------------------------\n",
      "Column:  VAR_137  --> Number of Outliers: 0\n",
      "-----------------------------------------------------------------\n",
      "Column:  VAR_138  --> Number of Outliers: 1\n",
      "-----------------------------------------------------------------\n",
      "Column:  VAR_139  --> Number of Outliers: 0\n",
      "-----------------------------------------------------------------\n",
      "Column:  VAR_140  --> Number of Outliers: 0\n",
      "-----------------------------------------------------------------\n",
      "Column:  VAR_141  --> Number of Outliers: 0\n",
      "-----------------------------------------------------------------\n",
      "Column:  VAR_142  --> Number of Outliers: 0\n",
      "-----------------------------------------------------------------\n",
      "Column:  VAR_143  --> Number of Outliers: 3\n",
      "-----------------------------------------------------------------\n",
      "Column:  VAR_144  --> Number of Outliers: 0\n",
      "-----------------------------------------------------------------\n",
      "Column:  VAR_145  --> Number of Outliers: 0\n",
      "-----------------------------------------------------------------\n",
      "Column:  VAR_146  --> Number of Outliers: 6\n",
      "-----------------------------------------------------------------\n",
      "Column:  VAR_147  --> Number of Outliers: 0\n",
      "-----------------------------------------------------------------\n",
      "Column:  VAR_148  --> Number of Outliers: 2\n",
      "-----------------------------------------------------------------\n",
      "Column:  VAR_149  --> Number of Outliers: 0\n",
      "-----------------------------------------------------------------\n",
      "Column:  VAR_150  --> Number of Outliers: 0\n",
      "-----------------------------------------------------------------\n",
      "Column:  VAR_151  --> Number of Outliers: 0\n",
      "-----------------------------------------------------------------\n",
      "Column:  VAR_152  --> Number of Outliers: 0\n",
      "-----------------------------------------------------------------\n",
      "Column:  VAR_153  --> Number of Outliers: 0\n",
      "-----------------------------------------------------------------\n",
      "Column:  VAR_154  --> Number of Outliers: 0\n",
      "-----------------------------------------------------------------\n",
      "Column:  VAR_155  --> Number of Outliers: 0\n",
      "-----------------------------------------------------------------\n"
     ]
    },
    {
     "name": "stdout",
     "output_type": "stream",
     "text": [
      "Column:  VAR_156  --> Number of Outliers: 0\n",
      "-----------------------------------------------------------------\n",
      "Column:  VAR_157  --> Number of Outliers: 1\n",
      "-----------------------------------------------------------------\n",
      "Column:  VAR_158  --> Number of Outliers: 0\n",
      "-----------------------------------------------------------------\n",
      "Column:  VAR_159  --> Number of Outliers: 1\n",
      "-----------------------------------------------------------------\n",
      "Column:  VAR_160  --> Number of Outliers: 0\n",
      "-----------------------------------------------------------------\n",
      "Column:  VAR_161  --> Number of Outliers: 0\n",
      "-----------------------------------------------------------------\n",
      "Column:  VAR_162  --> Number of Outliers: 0\n",
      "-----------------------------------------------------------------\n",
      "Column:  VAR_163  --> Number of Outliers: 0\n",
      "-----------------------------------------------------------------\n",
      "Column:  VAR_164  --> Number of Outliers: 0\n",
      "-----------------------------------------------------------------\n",
      "Column:  VAR_165  --> Number of Outliers: 0\n",
      "-----------------------------------------------------------------\n",
      "Column:  VAR_166  --> Number of Outliers: 0\n",
      "-----------------------------------------------------------------\n",
      "Column:  VAR_167  --> Number of Outliers: 1\n",
      "-----------------------------------------------------------------\n",
      "Column:  VAR_168  --> Number of Outliers: 5\n",
      "-----------------------------------------------------------------\n",
      "Column:  VAR_169  --> Number of Outliers: 0\n",
      "-----------------------------------------------------------------\n",
      "Column:  VAR_170  --> Number of Outliers: 1\n",
      "-----------------------------------------------------------------\n",
      "Column:  VAR_171  --> Number of Outliers: 0\n",
      "-----------------------------------------------------------------\n",
      "Column:  VAR_172  --> Number of Outliers: 2\n",
      "-----------------------------------------------------------------\n",
      "Column:  VAR_173  --> Number of Outliers: 0\n",
      "-----------------------------------------------------------------\n",
      "Column:  VAR_174  --> Number of Outliers: 0\n",
      "-----------------------------------------------------------------\n",
      "Column:  VAR_175  --> Number of Outliers: 0\n",
      "-----------------------------------------------------------------\n",
      "Column:  VAR_176  --> Number of Outliers: 0\n",
      "-----------------------------------------------------------------\n",
      "Column:  VAR_177  --> Number of Outliers: 0\n",
      "-----------------------------------------------------------------\n",
      "Column:  VAR_178  --> Number of Outliers: 0\n",
      "-----------------------------------------------------------------\n",
      "Column:  VAR_179  --> Number of Outliers: 3\n",
      "-----------------------------------------------------------------\n",
      "Column:  VAR_180  --> Number of Outliers: 0\n",
      "-----------------------------------------------------------------\n",
      "Column:  VAR_181  --> Number of Outliers: 0\n",
      "-----------------------------------------------------------------\n",
      "Column:  VAR_182  --> Number of Outliers: 0\n",
      "-----------------------------------------------------------------\n",
      "Column:  VAR_183  --> Number of Outliers: 0\n",
      "-----------------------------------------------------------------\n",
      "Column:  VAR_184  --> Number of Outliers: 0\n",
      "-----------------------------------------------------------------\n",
      "Column:  VAR_185  --> Number of Outliers: 0\n",
      "-----------------------------------------------------------------\n",
      "Column:  VAR_186  --> Number of Outliers: 1\n",
      "-----------------------------------------------------------------\n",
      "Column:  VAR_187  --> Number of Outliers: 0\n",
      "-----------------------------------------------------------------\n",
      "Column:  VAR_188  --> Number of Outliers: 0\n",
      "-----------------------------------------------------------------\n",
      "Column:  VAR_189  --> Number of Outliers: 0\n",
      "-----------------------------------------------------------------\n",
      "Column:  VAR_190  --> Number of Outliers: 2\n",
      "-----------------------------------------------------------------\n",
      "Column:  VAR_191  --> Number of Outliers: 0\n",
      "-----------------------------------------------------------------\n",
      "Column:  VAR_192  --> Number of Outliers: 0\n",
      "-----------------------------------------------------------------\n",
      "Column:  VAR_193  --> Number of Outliers: 2\n",
      "-----------------------------------------------------------------\n",
      "Column:  VAR_194  --> Number of Outliers: 0\n",
      "-----------------------------------------------------------------\n",
      "Column:  VAR_195  --> Number of Outliers: 0\n",
      "-----------------------------------------------------------------\n",
      "Column:  VAR_196  --> Number of Outliers: 0\n",
      "-----------------------------------------------------------------\n",
      "Column:  VAR_197  --> Number of Outliers: 0\n",
      "-----------------------------------------------------------------\n",
      "Column:  VAR_198  --> Number of Outliers: 0\n",
      "-----------------------------------------------------------------\n",
      "Column:  VAR_199  --> Number of Outliers: 0\n",
      "-----------------------------------------------------------------\n",
      "Total Number of Outliers:  78\n",
      "Final Data Shape:  (528, 202)\n"
     ]
    }
   ],
   "source": [
    "data1 = raw_data.copy()\n",
    "for col in num_cols:\n",
    "    NoOfOutliers, data1 = removeOutliers(data1, col)\n",
    "    print('Column: ', col.upper(), ' --> Number of Outliers:', NoOfOutliers)\n",
    "    print('-----------------------------------------------------------------')\n",
    "print('Total Number of Outliers: ', raw_data.shape[0]-data1.shape[0])\n",
    "print('Final Data Shape: ', data1.shape)\n",
    "data1.reset_index(inplace=True, drop=True)"
   ]
  },
  {
   "cell_type": "markdown",
   "metadata": {},
   "source": [
    "#### Removing outliers using zscore"
   ]
  },
  {
   "cell_type": "code",
   "execution_count": 16,
   "metadata": {},
   "outputs": [
    {
     "name": "stdout",
     "output_type": "stream",
     "text": [
      "Total Number of Outliers:  29\n",
      "Final Data Shape:  (577, 202)\n"
     ]
    }
   ],
   "source": [
    "from scipy import stats\n",
    "z_scores = stats.zscore(raw_data[num_cols])\n",
    "abs_z_scores = np.abs(z_scores)\n",
    "filtered_entries = (abs_z_scores < 3).all(axis=1)\n",
    "data2 = raw_data[filtered_entries]\n",
    "data2.reset_index(drop=True, inplace=True)\n",
    "print('Total Number of Outliers: ', raw_data.shape[0]-data2.shape[0])\n",
    "print('Final Data Shape: ', data2.shape)"
   ]
  },
  {
   "cell_type": "code",
   "execution_count": 17,
   "metadata": {},
   "outputs": [],
   "source": [
    "data = data1.copy()"
   ]
  },
  {
   "cell_type": "markdown",
   "metadata": {},
   "source": [
    "# Feature Scaling"
   ]
  },
  {
   "cell_type": "markdown",
   "metadata": {},
   "source": [
    "Since all the values are in the similar range, we don't do the feature scaling."
   ]
  },
  {
   "cell_type": "markdown",
   "metadata": {},
   "source": [
    "# Model Development"
   ]
  },
  {
   "cell_type": "code",
   "execution_count": 18,
   "metadata": {},
   "outputs": [],
   "source": [
    "from sklearn.model_selection import train_test_split"
   ]
  },
  {
   "cell_type": "code",
   "execution_count": 19,
   "metadata": {},
   "outputs": [
    {
     "name": "stdout",
     "output_type": "stream",
     "text": [
      "(422, 200) (106, 200) (422,) (106,)\n"
     ]
    }
   ],
   "source": [
    "X = data[num_cols]\n",
    "Y = data['target']\n",
    "\n",
    "X_train, X_test, Y_train, Y_test = train_test_split(X, Y, test_size=0.2, random_state=42)\n",
    "print(X_train.shape, X_test.shape, Y_train.shape, Y_test.shape)"
   ]
  },
  {
   "cell_type": "markdown",
   "metadata": {},
   "source": [
    "## Logistic Regression"
   ]
  },
  {
   "cell_type": "code",
   "execution_count": 20,
   "metadata": {},
   "outputs": [
    {
     "name": "stdout",
     "output_type": "stream",
     "text": [
      "Training Accuracy:  1.0\n",
      "Testing Accuracy:  0.6792452830188679\n"
     ]
    },
    {
     "name": "stderr",
     "output_type": "stream",
     "text": [
      "C:\\Users\\SANDEEP\\Anaconda3\\lib\\site-packages\\sklearn\\linear_model\\_logistic.py:764: ConvergenceWarning: lbfgs failed to converge (status=1):\n",
      "STOP: TOTAL NO. of ITERATIONS REACHED LIMIT.\n",
      "\n",
      "Increase the number of iterations (max_iter) or scale the data as shown in:\n",
      "    https://scikit-learn.org/stable/modules/preprocessing.html\n",
      "Please also refer to the documentation for alternative solver options:\n",
      "    https://scikit-learn.org/stable/modules/linear_model.html#logistic-regression\n",
      "  extra_warning_msg=_LOGISTIC_SOLVER_CONVERGENCE_MSG)\n"
     ]
    }
   ],
   "source": [
    "from sklearn.linear_model import LogisticRegression\n",
    "Logistic_reg = LogisticRegression()\n",
    "Logistic_reg.fit(X_train, Y_train)\n",
    "print('Training Accuracy: ', Logistic_reg.score(X_train, Y_train))\n",
    "print('Testing Accuracy: ', Logistic_reg.score(X_test, Y_test))"
   ]
  },
  {
   "cell_type": "markdown",
   "metadata": {},
   "source": [
    "## Naive Bayes"
   ]
  },
  {
   "cell_type": "code",
   "execution_count": 21,
   "metadata": {},
   "outputs": [],
   "source": [
    "from sklearn.naive_bayes import MultinomialNB, GaussianNB, BernoulliNB\n",
    "\n",
    "# NB_clf = MultinomialNB()\n",
    "# NB_clf.fit(X_train, Y_train)\n",
    "# print('Training Accuracy: ', NB_clf.score(X_train, Y_train))\n",
    "# print('Testing Accuracy: ', NB_clf.score(X_test, Y_test))"
   ]
  },
  {
   "cell_type": "code",
   "execution_count": 22,
   "metadata": {},
   "outputs": [
    {
     "name": "stdout",
     "output_type": "stream",
     "text": [
      "Training Accuracy:  0.9170616113744076\n",
      "Testing Accuracy:  0.7264150943396226\n"
     ]
    }
   ],
   "source": [
    "GNB_clf = GaussianNB()\n",
    "GNB_clf.fit(X_train, Y_train)\n",
    "print('Training Accuracy: ', GNB_clf.score(X_train, Y_train))\n",
    "print('Testing Accuracy: ', GNB_clf.score(X_test, Y_test))"
   ]
  },
  {
   "cell_type": "code",
   "execution_count": 23,
   "metadata": {},
   "outputs": [
    {
     "name": "stdout",
     "output_type": "stream",
     "text": [
      "Training Accuracy:  0.7464454976303317\n",
      "Testing Accuracy:  0.5\n"
     ]
    }
   ],
   "source": [
    "BNB_clf = BernoulliNB()\n",
    "BNB_clf.fit(X_train, Y_train)\n",
    "print('Training Accuracy: ', BNB_clf.score(X_train, Y_train))\n",
    "print('Testing Accuracy: ', BNB_clf.score(X_test, Y_test))"
   ]
  },
  {
   "cell_type": "markdown",
   "metadata": {},
   "source": [
    "## K-Neighbours Classifier"
   ]
  },
  {
   "cell_type": "code",
   "execution_count": 24,
   "metadata": {},
   "outputs": [
    {
     "name": "stdout",
     "output_type": "stream",
     "text": [
      "Training Accuracy:  0.6777251184834123\n",
      "Testing Accuracy:  0.6132075471698113\n"
     ]
    }
   ],
   "source": [
    "from sklearn.neighbors import KNeighborsClassifier\n",
    "\n",
    "KN_clf = KNeighborsClassifier()\n",
    "KN_clf.fit(X_train, Y_train)\n",
    "print('Training Accuracy: ', KN_clf.score(X_train, Y_train))\n",
    "print('Testing Accuracy: ', KN_clf.score(X_test, Y_test))"
   ]
  },
  {
   "cell_type": "markdown",
   "metadata": {},
   "source": [
    "## SVM"
   ]
  },
  {
   "cell_type": "code",
   "execution_count": 25,
   "metadata": {},
   "outputs": [
    {
     "name": "stdout",
     "output_type": "stream",
     "text": [
      "Training Accuracy:  0.8483412322274881\n",
      "Testing Accuracy:  0.6981132075471698\n"
     ]
    }
   ],
   "source": [
    "from sklearn import svm\n",
    "\n",
    "SVM_clf = svm.SVC()\n",
    "SVM_clf.fit(X_train, Y_train)\n",
    "print('Training Accuracy: ', SVM_clf.score(X_train, Y_train))\n",
    "print('Testing Accuracy: ', SVM_clf.score(X_test, Y_test))"
   ]
  },
  {
   "cell_type": "markdown",
   "metadata": {},
   "source": [
    "## Decision Tree Classifier"
   ]
  },
  {
   "cell_type": "code",
   "execution_count": 26,
   "metadata": {},
   "outputs": [
    {
     "name": "stdout",
     "output_type": "stream",
     "text": [
      "Training Accuracy:  1.0\n",
      "Testing Accuracy:  0.5188679245283019\n"
     ]
    }
   ],
   "source": [
    "from sklearn.tree import DecisionTreeClassifier\n",
    "\n",
    "DT_clf = DecisionTreeClassifier()\n",
    "DT_clf.fit(X_train, Y_train)\n",
    "print('Training Accuracy: ', DT_clf.score(X_train, Y_train))\n",
    "print('Testing Accuracy: ', DT_clf.score(X_test, Y_test))"
   ]
  },
  {
   "cell_type": "markdown",
   "metadata": {},
   "source": [
    "## Random Forest Classifier"
   ]
  },
  {
   "cell_type": "code",
   "execution_count": 27,
   "metadata": {},
   "outputs": [
    {
     "name": "stdout",
     "output_type": "stream",
     "text": [
      "Training Accuracy:  1.0\n",
      "Testing Accuracy:  0.6698113207547169\n"
     ]
    }
   ],
   "source": [
    "from sklearn.ensemble import RandomForestClassifier, ExtraTreesClassifier, AdaBoostClassifier, GradientBoostingClassifier\n",
    "\n",
    "RF_clf = RandomForestClassifier()\n",
    "RF_clf.fit(X_train, Y_train)\n",
    "print('Training Accuracy: ', RF_clf.score(X_train, Y_train))\n",
    "print('Testing Accuracy: ', RF_clf.score(X_test, Y_test))"
   ]
  },
  {
   "cell_type": "code",
   "execution_count": 28,
   "metadata": {},
   "outputs": [
    {
     "name": "stdout",
     "output_type": "stream",
     "text": [
      "Training Accuracy:  1.0\n",
      "Testing Accuracy:  0.6320754716981132\n"
     ]
    }
   ],
   "source": [
    "ET_clf = ExtraTreesClassifier()\n",
    "ET_clf.fit(X_train, Y_train)\n",
    "print('Training Accuracy: ', ET_clf.score(X_train, Y_train))\n",
    "print('Testing Accuracy: ', ET_clf.score(X_test, Y_test))"
   ]
  },
  {
   "cell_type": "code",
   "execution_count": 29,
   "metadata": {},
   "outputs": [
    {
     "name": "stdout",
     "output_type": "stream",
     "text": [
      "Training Accuracy:  0.9786729857819905\n",
      "Testing Accuracy:  0.5754716981132075\n"
     ]
    }
   ],
   "source": [
    "AB_clf = AdaBoostClassifier()\n",
    "AB_clf.fit(X_train, Y_train)\n",
    "print('Training Accuracy: ', AB_clf.score(X_train, Y_train))\n",
    "print('Testing Accuracy: ', AB_clf.score(X_test, Y_test))"
   ]
  },
  {
   "cell_type": "code",
   "execution_count": 30,
   "metadata": {},
   "outputs": [
    {
     "name": "stdout",
     "output_type": "stream",
     "text": [
      "Training Accuracy:  1.0\n",
      "Testing Accuracy:  0.6226415094339622\n"
     ]
    }
   ],
   "source": [
    "GB_clf = GradientBoostingClassifier()\n",
    "GB_clf.fit(X_train, Y_train)\n",
    "print('Training Accuracy: ', GB_clf.score(X_train, Y_train))\n",
    "print('Testing Accuracy: ', GB_clf.score(X_test, Y_test))"
   ]
  },
  {
   "cell_type": "markdown",
   "metadata": {},
   "source": [
    "# DONE"
   ]
  }
 ],
 "metadata": {
  "kernelspec": {
   "display_name": "Python 3",
   "language": "python",
   "name": "python3"
  },
  "language_info": {
   "codemirror_mode": {
    "name": "ipython",
    "version": 3
   },
   "file_extension": ".py",
   "mimetype": "text/x-python",
   "name": "python",
   "nbconvert_exporter": "python",
   "pygments_lexer": "ipython3",
   "version": "3.6.5"
  }
 },
 "nbformat": 4,
 "nbformat_minor": 2
}
